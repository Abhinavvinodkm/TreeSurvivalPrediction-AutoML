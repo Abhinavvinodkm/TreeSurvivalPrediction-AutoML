{
  "nbformat": 4,
  "nbformat_minor": 0,
  "metadata": {
    "colab": {
      "provenance": []
    },
    "kernelspec": {
      "name": "python3",
      "display_name": "Python 3"
    },
    "language_info": {
      "name": "python"
    }
  },
  "cells": [
    {
      "cell_type": "code",
      "execution_count": 1,
      "metadata": {
        "id": "c6_mTlyGPcvv"
      },
      "outputs": [],
      "source": [
        "import pandas as pd\n",
        "import numpy as np"
      ]
    },
    {
      "cell_type": "code",
      "source": [
        "df = pd.read_csv('Tree_Data_Preprocessed.csv')"
      ],
      "metadata": {
        "id": "9y-MXgHvPo1w"
      },
      "execution_count": 3,
      "outputs": []
    },
    {
      "cell_type": "code",
      "source": [
        "y_col = \"Alive\"\n",
        "X_cols = list(df.drop(columns=[y_col]).columns)\n",
        "\n",
        "from sklearn.model_selection import train_test_split\n",
        "X_train, X_test, y_train, y_test = train_test_split(df[X_cols], df[y_col], test_size=0.33, random_state=42)"
      ],
      "metadata": {
        "id": "rQeSvC-2Pzq6"
      },
      "execution_count": 4,
      "outputs": []
    },
    {
      "cell_type": "code",
      "source": [
        "from sklearn.ensemble import RandomForestClassifier\n",
        "\n",
        "baseline_model = RandomForestClassifier()\n",
        "baseline_model.fit(X_train, y_train)\n",
        "\n",
        "baseline_pred = baseline_model.predict(X_test)"
      ],
      "metadata": {
        "id": "dXiOsACBP5u9"
      },
      "execution_count": 5,
      "outputs": []
    },
    {
      "cell_type": "code",
      "source": [
        "import pickle\n",
        "\n",
        "with open('tuned_model.pkl', 'rb') as file:\n",
        "    tuned_model = pickle.load(file)\n",
        "\n",
        "tuned_pred = tuned_model.predict(X_test)"
      ],
      "metadata": {
        "id": "ei3SfvYgQHiH"
      },
      "execution_count": 7,
      "outputs": []
    },
    {
      "cell_type": "code",
      "source": [
        "from sklearn.metrics import accuracy_score\n",
        "\n",
        "baseline_acc = accuracy_score(y_test, baseline_pred)\n",
        "print('Baseline accuracy: ', baseline_acc)\n",
        "\n",
        "tuned_acc = accuracy_score(y_test, tuned_pred)\n",
        "print('Tuned model accuracy: ', tuned_acc)"
      ],
      "metadata": {
        "colab": {
          "base_uri": "https://localhost:8080/"
        },
        "id": "cbIo9aMhQd6Q",
        "outputId": "8d0bd844-e165-4fb3-8aa8-eeab05cf5e4f"
      },
      "execution_count": 10,
      "outputs": [
        {
          "output_type": "stream",
          "name": "stdout",
          "text": [
            "Baseline accuracy:  0.8650707290533188\n",
            "Tuned model accuracy:  0.8574537540805223\n"
          ]
        }
      ]
    },
    {
      "cell_type": "code",
      "source": [
        "from scipy.stats import ttest_rel\n",
        "t_statistic, p_value = ttest_rel(tuned_pred, baseline_pred)\n",
        "\n",
        "print(f\"t-statistic: {t_statistic}, p-value: {p_value}\")\n",
        "\n",
        "alpha = 0.05\n",
        "if p_value < alpha:\n",
        "    print(\"The difference is statistically significant.\")\n",
        "else:\n",
        "    print(\"There is no statistically significant difference.\")"
      ],
      "metadata": {
        "colab": {
          "base_uri": "https://localhost:8080/"
        },
        "id": "ZoCFvEcGPwvT",
        "outputId": "fca30a5f-41de-485b-fb79-a2bacde74e9c"
      },
      "execution_count": 11,
      "outputs": [
        {
          "output_type": "stream",
          "name": "stdout",
          "text": [
            "t-statistic: -5.176428841847278, p-value: 2.779069775877894e-07\n",
            "The difference is statistically significant.\n"
          ]
        }
      ]
    },
    {
      "cell_type": "code",
      "source": [],
      "metadata": {
        "id": "2xxouv0eQZQk"
      },
      "execution_count": null,
      "outputs": []
    }
  ]
}